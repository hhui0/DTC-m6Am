{
 "cells": [
  {
   "cell_type": "code",
   "execution_count": 6,
   "id": "59983469d918f879",
   "metadata": {
    "collapsed": false,
    "ExecuteTime": {
     "end_time": "2024-12-31T06:15:13.763640Z",
     "start_time": "2024-12-31T06:15:13.197939Z"
    }
   },
   "outputs": [
    {
     "name": "stderr",
     "output_type": "stream",
     "text": [
      "Seed set to 1024\n",
      "GPU available: True (cuda), used: True\n",
      "TPU available: False, using: 0 TPU cores\n",
      "HPU available: False, using: 0 HPUs\n",
      "Restoring states from the checkpoint path at ckpt/mcc=0.411.ckpt\n",
      "LOCAL_RANK: 0 - CUDA_VISIBLE_DEVICES: [0]\n",
      "Loaded model weights from the checkpoint at ckpt/mcc=0.411.ckpt\n"
     ]
    },
    {
     "data": {
      "text/plain": "{'Sn': 0.878125011920929,\n 'Sp': 0.503125011920929,\n 'Acc': 0.690625011920929,\n 'AUC': 0.7649999856948853,\n 'MCC': 0.4112619161605835,\n 'F1': 0.7394737005233765,\n 'Recall': 0.878125011920929,\n 'Precision': 0.6386363506317139}"
     },
     "execution_count": 6,
     "metadata": {},
     "output_type": "execute_result"
    }
   ],
   "source": [
    "from models.DTC_m6Am import classifier\n",
    "from utils.one_trial import LitModel\n",
    "from utils.prepare_data import get_m6aminer\n",
    "_, testset = get_m6aminer()\n",
    "hparams = classifier.get_hparams()\n",
    "model_params = classifier.get_model_params()\n",
    "model = LitModel(classifier, hparams , model_params)\n",
    "model.test(testset, ckpt_path=\"ckpt/mcc=0.411.ckpt\")"
   ]
  }
 ],
 "metadata": {
  "kernelspec": {
   "display_name": "Python 3",
   "language": "python",
   "name": "python3"
  },
  "language_info": {
   "codemirror_mode": {
    "name": "ipython",
    "version": 2
   },
   "file_extension": ".py",
   "mimetype": "text/x-python",
   "name": "python",
   "nbconvert_exporter": "python",
   "pygments_lexer": "ipython2",
   "version": "2.7.6"
  }
 },
 "nbformat": 4,
 "nbformat_minor": 5
}
